{
  "nbformat": 4,
  "nbformat_minor": 0,
  "metadata": {
    "colab": {
      "provenance": [],
      "gpuType": "T4",
      "mount_file_id": "1c6jWGLm9oMGA_l4Cv_HbWlqpNpHyEfjz",
      "authorship_tag": "ABX9TyMTfSh0utpQ8j/rgRBj9q5J",
      "include_colab_link": true
    },
    "kernelspec": {
      "name": "python3",
      "display_name": "Python 3"
    },
    "language_info": {
      "name": "python"
    },
    "accelerator": "GPU"
  },
  "cells": [
    {
      "cell_type": "markdown",
      "metadata": {
        "id": "view-in-github",
        "colab_type": "text"
      },
      "source": [
        "<a href=\"https://colab.research.google.com/github/NiveshGupta123/ds_nivesh_gupta/blob/main/notebook_1.ipynb\" target=\"_parent\"><img src=\"https://colab.research.google.com/assets/colab-badge.svg\" alt=\"Open In Colab\"/></a>"
      ]
    },
    {
      "cell_type": "code",
      "execution_count": 1,
      "metadata": {
        "id": "1OxJG8f_v55g",
        "colab": {
          "base_uri": "https://localhost:8080/"
        },
        "outputId": "17aa93e7-6fa2-403a-87c1-224fe5b32ef7"
      },
      "outputs": [
        {
          "output_type": "stream",
          "name": "stdout",
          "text": [
            "Cloning into 'ds_nivesh_gupta'...\n",
            "remote: Enumerating objects: 3, done.\u001b[K\n",
            "remote: Counting objects: 100% (3/3), done.\u001b[K\n",
            "remote: Total 3 (delta 0), reused 0 (delta 0), pack-reused 0 (from 0)\u001b[K\n",
            "Receiving objects: 100% (3/3), done.\n"
          ]
        }
      ],
      "source": [
        "!git clone https://github.com/NiveshGupta123/ds_nivesh_gupta.git"
      ]
    },
    {
      "cell_type": "code",
      "source": [
        "%cd ds_nivesh_gupta"
      ],
      "metadata": {
        "colab": {
          "base_uri": "https://localhost:8080/"
        },
        "id": "lGTGJIteMBxU",
        "outputId": "ec8191c1-2ca3-4740-bf64-88a06026b3bd"
      },
      "execution_count": 2,
      "outputs": [
        {
          "output_type": "stream",
          "name": "stdout",
          "text": [
            "/content/ds_nivesh_gupta\n"
          ]
        }
      ]
    },
    {
      "cell_type": "code",
      "source": [
        "import pandas as pd\n",
        "import numpy as np\n",
        "import matplotlib.pyplot as plt\n",
        "import seaborn as sns\n"
      ],
      "metadata": {
        "id": "RDPXEgbVM40k"
      },
      "execution_count": 3,
      "outputs": []
    },
    {
      "cell_type": "code",
      "source": [
        "fear_greed = pd.read_csv('fear_greed_index.csv')\n",
        "trades = pd.read_csv('historical_data.csv')\n"
      ],
      "metadata": {
        "id": "dX_sPf2hM89w"
      },
      "execution_count": null,
      "outputs": []
    }
  ]
}